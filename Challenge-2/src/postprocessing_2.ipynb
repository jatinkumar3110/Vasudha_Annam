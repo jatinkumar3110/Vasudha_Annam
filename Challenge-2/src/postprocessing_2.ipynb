{
 "cells": [
  {
   "cell_type": "code",
   "execution_count": null,
   "id": "5a71a3dc",
   "metadata": {
    "vscode": {
     "languageId": "plaintext"
    }
   },
   "outputs": [],
   "source": [
    "\"\"\"\n",
    "\n",
    "Institute: Annam.ai IIT Ropar\n",
    "Team Name: Vasudha\n",
    "Team Members: jatinkumar3110, abhi2py, mugdhisaxena_15, chitwanrana\n",
    "Leaderboard Rank: 21  (F1 Score=1)\n",
    "\n",
    "\"\"\""
   ]
  }
 ],
 "metadata": {
  "language_info": {
   "name": "python"
  }
 },
 "nbformat": 4,
 "nbformat_minor": 5
}
